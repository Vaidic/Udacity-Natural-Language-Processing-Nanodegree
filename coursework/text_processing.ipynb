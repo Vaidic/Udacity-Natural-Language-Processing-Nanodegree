{
 "cells": [
  {
   "cell_type": "markdown",
   "metadata": {},
   "source": [
    "# Text Processing\n",
    "\n",
    "## Capturing Text Data\n",
    "\n",
    "### Plain Text"
   ]
  },
  {
   "cell_type": "code",
   "execution_count": 1,
   "metadata": {},
   "outputs": [
    {
     "name": "stdout",
     "output_type": "stream",
     "text": [
      "Hieroglyphic writing dates from c. 3000 BC, and is composed of hundreds of symbols. A hieroglyph can represent a word, a sound, or a silent determinative; and the same symbol can serve different purposes in different contexts. Hieroglyphs were a formal script, used on stone monuments and in tombs, that could be as detailed as individual works of art.\n",
      "\n"
     ]
    }
   ],
   "source": [
    "import os\n",
    "\n",
    "# Read in a plain text file\n",
    "with open(os.path.join(\"../data\", \"hieroglyph.txt\"), \"r\") as f:\n",
    "    text = f.read()\n",
    "    print(text)"
   ]
  },
  {
   "cell_type": "markdown",
   "metadata": {},
   "source": [
    "### Tabular Data"
   ]
  },
  {
   "cell_type": "code",
   "execution_count": 2,
   "metadata": {
    "scrolled": true
   },
   "outputs": [
    {
     "data": {
      "text/html": [
       "<div>\n",
       "<style scoped>\n",
       "    .dataframe tbody tr th:only-of-type {\n",
       "        vertical-align: middle;\n",
       "    }\n",
       "\n",
       "    .dataframe tbody tr th {\n",
       "        vertical-align: top;\n",
       "    }\n",
       "\n",
       "    .dataframe thead th {\n",
       "        text-align: right;\n",
       "    }\n",
       "</style>\n",
       "<table border=\"1\" class=\"dataframe\">\n",
       "  <thead>\n",
       "    <tr style=\"text-align: right;\">\n",
       "      <th></th>\n",
       "      <th>publisher</th>\n",
       "      <th>title</th>\n",
       "    </tr>\n",
       "  </thead>\n",
       "  <tbody>\n",
       "    <tr>\n",
       "      <th>0</th>\n",
       "      <td>Livemint</td>\n",
       "      <td>fed's charles plosser sees high bar for change...</td>\n",
       "    </tr>\n",
       "    <tr>\n",
       "      <th>1</th>\n",
       "      <td>IFA Magazine</td>\n",
       "      <td>us open: stocks fall after fed official hints ...</td>\n",
       "    </tr>\n",
       "    <tr>\n",
       "      <th>2</th>\n",
       "      <td>IFA Magazine</td>\n",
       "      <td>fed risks falling 'behind the curve', charles ...</td>\n",
       "    </tr>\n",
       "    <tr>\n",
       "      <th>3</th>\n",
       "      <td>Moneynews</td>\n",
       "      <td>fed's plosser: nasty weather has curbed job gr...</td>\n",
       "    </tr>\n",
       "    <tr>\n",
       "      <th>4</th>\n",
       "      <td>NASDAQ</td>\n",
       "      <td>plosser: fed may have to accelerate tapering pace</td>\n",
       "    </tr>\n",
       "  </tbody>\n",
       "</table>\n",
       "</div>"
      ],
      "text/plain": [
       "      publisher                                              title\n",
       "0      Livemint  fed's charles plosser sees high bar for change...\n",
       "1  IFA Magazine  us open: stocks fall after fed official hints ...\n",
       "2  IFA Magazine  fed risks falling 'behind the curve', charles ...\n",
       "3     Moneynews  fed's plosser: nasty weather has curbed job gr...\n",
       "4        NASDAQ  plosser: fed may have to accelerate tapering pace"
      ]
     },
     "execution_count": 2,
     "metadata": {},
     "output_type": "execute_result"
    }
   ],
   "source": [
    "import pandas as pd\n",
    "\n",
    "# Extract text column from a dataframe\n",
    "df = pd.read_csv(os.path.join(\"../data\", \"news.csv\"))\n",
    "df.head()[['publisher', 'title']]\n",
    "\n",
    "# Convert text column to lowercase\n",
    "df['title'] = df['title'].str.lower()\n",
    "df.head()[['publisher', 'title']]"
   ]
  },
  {
   "cell_type": "markdown",
   "metadata": {},
   "source": [
    "### Online Resource"
   ]
  },
  {
   "cell_type": "code",
   "execution_count": 3,
   "metadata": {
    "scrolled": true
   },
   "outputs": [
    {
     "name": "stdout",
     "output_type": "stream",
     "text": [
      "{\n",
      "    \"success\": {\n",
      "        \"total\": 1\n",
      "    },\n",
      "    \"contents\": {\n",
      "        \"quotes\": [\n",
      "            {\n",
      "                \"quote\": \"Every day you have a choice to be honest or deceptive. If you commit to telling the truth, you will win. You\\u2019ll win more trust, you\\u2019ll win more business, and you\\u2019ll win more peace of mind. You\\u2019ll break the system and be even more successful.\",\n",
      "                \"length\": null,\n",
      "                \"author\": \"Dale Patridge\",\n",
      "                \"tags\": [\n",
      "                    \"honest\",\n",
      "                    \"inspire\",\n",
      "                    \"success\",\n",
      "                    \"truth\",\n",
      "                    \"win\"\n",
      "                ],\n",
      "                \"category\": \"inspire\",\n",
      "                \"date\": \"2019-01-18\",\n",
      "                \"permalink\": \"https://theysaidso.com/quote/ALTQKodcrj3X6ypM8lGjnAeF/dale-patridge-every-day-you-have-a-choice-to-be-honest-or-deceptive-if-you-commi\",\n",
      "                \"title\": \"Inspiring Quote of the day\",\n",
      "                \"background\": \"https://theysaidso.com/img/bgs/man_on_the_mountain.jpg\",\n",
      "                \"id\": \"ALTQKodcrj3X6ypM8lGjnAeF\"\n",
      "            }\n",
      "        ],\n",
      "        \"copyright\": \"2017-19 theysaidso.com\"\n",
      "    }\n",
      "}\n",
      "Every day you have a choice to be honest or deceptive. If you commit to telling the truth, you will win. You’ll win more trust, you’ll win more business, and you’ll win more peace of mind. You’ll break the system and be even more successful. \n",
      "-- Dale Patridge\n"
     ]
    }
   ],
   "source": [
    "import requests\n",
    "import json\n",
    "\n",
    "# Fetch data from a REST API\n",
    "r = requests.get(\n",
    "    \"https://quotes.rest/qod.json\")\n",
    "res = r.json()\n",
    "print(json.dumps(res, indent=4))\n",
    "\n",
    "# Extract relevant object and field\n",
    "q = res[\"contents\"][\"quotes\"][0]\n",
    "print(q[\"quote\"], \"\\n--\", q[\"author\"])"
   ]
  },
  {
   "cell_type": "markdown",
   "metadata": {},
   "source": [
    "## Cleaning"
   ]
  },
  {
   "cell_type": "code",
   "execution_count": 4,
   "metadata": {
    "scrolled": true
   },
   "outputs": [
    {
     "name": "stdout",
     "output_type": "stream",
     "text": [
      "<html op=\"news\"><head><meta name=\"referrer\" content=\"origin\"><meta name=\"viewport\" content=\"width=device-width, initial-scale=1.0\"><link rel=\"stylesheet\" type=\"text/css\" href=\"news.css?rHuuSOgB3qT4dzJtMB3o\">\n",
      "            <link rel=\"shortcut icon\" href=\"favicon.ico\">\n",
      "          <link rel=\"alternate\" type=\"application/rss+xml\" title=\"RSS\" href=\"rss\">\n",
      "        <title>Hacker News</title></head><body><center><table id=\"hnmain\" border=\"0\" cellpadding=\"0\" cellspacing=\"0\" width=\"85%\" bgcolor=\"#f6f6ef\">\n",
      "        <tr><td bgcolor=\"#ff6600\"><table border=\"0\" cellpadding=\"0\" cellspacing=\"0\" width=\"100%\" style=\"padding:2px\"><tr><td style=\"width:18px;padding-right:4px\"><a href=\"https://news.ycombinator.com\"><img src=\"y18.gif\" width=\"18\" height=\"18\" style=\"border:1px white solid;\"></a></td>\n",
      "                  <td style=\"line-height:12pt; height:10px;\"><span class=\"pagetop\"><b class=\"hnname\"><a href=\"news\">Hacker News</a></b>\n",
      "              <a href=\"newest\">new</a> | <a href=\"newcomments\">comments</a> | <a href=\"ask\">ask</a> | <a href=\"show\">show</a> | <a href=\"jobs\">jobs</a> | <a href=\"submit\">submit</a>            </span></td><td style=\"text-align:right;padding-right:4px;\"><span class=\"pagetop\">\n",
      "                              <a href=\"login?goto=news\">login</a>\n",
      "                          </span></td>\n",
      "              </tr></table></td></tr>\n",
      "<tr id=\"pagespace\" title=\"\" style=\"height:10px\"></tr><tr><td><table border=\"0\" cellpadding=\"0\" cellspacing=\"0\" class=\"itemlist\">\n",
      "              <tr class='athing' id='18935888'>\n",
      "      <td align=\"right\" valign=\"top\" class=\"title\"><span class=\"rank\">1.</span></td>      <td valign=\"top\" class=\"votelinks\"><center><a id='up_18935888' href='vote?id=18935888&amp;how=up&amp;goto=news'><div class='votearrow' title='upvote'></div></a></center></td><td class=\"title\"><a href=\"https://www.bloomberg.com/news/articles/2018-11-08/a-fifth-of-china-s-homes-are-empty-that-s-50-million-apartments\" class=\"storylink\">A Fifth of China’s Homes Are Empty (2018)</a><span class=\"sitebit comhead\"> (<a href=\"from?site=bloomberg.com\"><span class=\"sitestr\">bloomberg.com</span></a>)</span></td></tr><tr><td colspan=\"2\"></td><td class=\"subtext\">\n",
      "        <span class=\"score\" id=\"score_18935888\">131 points</span> by <a href=\"user?id=paulpauper\" class=\"hnuser\">paulpauper</a> <span class=\"age\"><a href=\"item?id=18935888\">2 hours ago</a></span> <span id=\"unv_18935888\"></span> | <a href=\"hide?id=18935888&amp;goto=news\">hide</a> | <a href=\"item?id=18935888\">58&nbsp;comments</a>              </td></tr>\n",
      "      <tr class=\"spacer\" style=\"height:5px\"></tr>\n",
      "                <tr class='athing' id='18935138'>\n",
      "      <td align=\"right\" valign=\"top\" class=\"title\"><span class=\"rank\">2.</span></td>      <td valign=\"top\" class=\"votelinks\"><center><a id='up_18935138' href='vote?id=18935138&amp;how=up&amp;goto=news'><div class='votearrow' title='upvote'></div></a></center></td><td class=\"title\"><a href=\"https://dbeaver.io/\" class=\"storylink\">Dbeaver – Multi-platform database tool</a><span class=\"sitebit comhead\"> (<a href=\"from?site=dbeaver.io\"><span class=\"sitestr\">dbeaver.io</span></a>)</span></td></tr><tr><td colspan=\"2\"></td><td class=\"subtext\">\n",
      "        <span class=\"score\" id=\"score_18935138\">182 points</span> by <a href=\"user?id=vbv\" class=\"hnuser\">vbv</a> <span class=\"age\"><a href=\"item?id=18935138\">4 hours ago</a></span> <span id=\"unv_18935138\"></span> | <a href=\"hide?id=18935138&amp;goto=news\">hide</a> | <a href=\"item?id=18935138\">70&nbsp;comments</a>              </td></tr>\n",
      "      <tr class=\"spacer\" style=\"height:5px\"></tr>\n",
      "                <tr class='athing' id='18936253'>\n",
      "      <td align=\"right\" valign=\"top\" class=\"title\"><span class=\"rank\">3.</span></td>      <td valign=\"top\" class=\"votelinks\"><center><a id='up_18936253' href='vote?id=18936253&amp;how=up&amp;goto=news'><div class='votearrow' title='upvote'></div></a></center></td><td class=\"title\"><a href=\"https://www.analog.com/en/education/education-library/scientist_engineers_guide.html\" class=\"storylink\">Scientist and Engineer's Guide to Digital Signal Processing (1999)</a><span class=\"sitebit comhead\"> (<a href=\"from?site=analog.com\"><span class=\"sitestr\">analog.com</span></a>)</span></td></tr><tr><td colspan=\"2\"></td><td class=\"subtext\">\n",
      "        <span class=\"score\" id=\"score_18936253\">24 points</span> by <a href=\"user?id=tzhenghao\" class=\"hnuser\">tzhenghao</a> <span class=\"age\"><a href=\"item?id=18936253\">57 minutes ago</a></span> <span id=\"unv_18936253\"></span> | <a href=\"hide?id=18936253&amp;goto=news\">hide</a> | <a href=\"item?id=18936253\">2&nbsp;comments</a>              </td></tr>\n",
      "      <tr class=\"spacer\" style=\"height:5px\"></tr>\n",
      "                <tr class='athing' id='18936169'>\n",
      "      <td align=\"right\" valign=\"top\" class=\"title\"><span class=\"rank\">4.</span></td>      <td valign=\"top\" class=\"votelinks\"><center><a id='up_18936169' href='vote?id=18936169&amp;how=up&amp;goto=news'><div class='votearrow' title='upvote'></div></a></center></td><td class=\"title\"><a href=\"https://www.cryptologie.net/article/466/developers-are-not-idiots\" class=\"storylink\">Developers Are Not Idiots</a><span class=\"sitebit comhead\"> (<a href=\"from?site=cryptologie.net\"><span class=\"sitestr\">cryptologie.net</span></a>)</span></td></tr><tr><td colspan=\"2\"></td><td class=\"subtext\">\n",
      "        <span class=\"score\" id=\"score_18936169\">39 points</span> by <a href=\"user?id=eric_khun\" class=\"hnuser\">eric_khun</a> <span class=\"age\"><a href=\"item?id=18936169\">1 hour ago</a></span> <span id=\"unv_18936169\"></span> | <a href=\"hide?id=18936169&amp;goto=news\">hide</a> | <a href=\"item?id=18936169\">39&nbsp;comments</a>              </td></tr>\n",
      "      <tr class=\"spacer\" style=\"height:5px\"></tr>\n",
      "                <tr class='athing' id='18935649'>\n",
      "      <td align=\"right\" valign=\"top\" class=\"title\"><span class=\"rank\">5.</span></td>      <td valign=\"top\" class=\"votelinks\"><center><a id='up_18935649' href='vote?id=18935649&amp;how=up&amp;goto=news'><div class='votearrow' title='upvote'></div></a></center></td><td class=\"title\"><a href=\"https://github.blog/2019-01-17-lets-talk-about-open-source-sustainability\" class=\"storylink\">Let’s talk about open-source sustainability</a><span class=\"sitebit comhead\"> (<a href=\"from?site=github.blog\"><span class=\"sitestr\">github.blog</span></a>)</span></td></tr><tr><td colspan=\"2\"></td><td class=\"subtext\">\n",
      "        <span class=\"score\" id=\"score_18935649\">64 points</span> by <a href=\"user?id=steveklabnik\" class=\"hnuser\">steveklabnik</a> <span class=\"age\"><a href=\"item?id=18935649\">2 hours ago</a></span> <span id=\"unv_18935649\"></span> | <a href=\"hide?id=18935649&amp;goto=news\">hide</a> | <a href=\"item?id=18935649\">25&nbsp;comments</a>              </td></tr>\n",
      "      <tr class=\"spacer\" style=\"height:5px\"></tr>\n",
      "                <tr class='athing' id='18932402'>\n",
      "      <td align=\"right\" valign=\"top\" class=\"title\"><span class=\"rank\">6.</span></td>      <td valign=\"top\" class=\"votelinks\"><center><a id='up_18932402' href='vote?id=18932402&amp;how=up&amp;goto=news'><div class='votearrow' title='upvote'></div></a></center></td><td class=\"title\"><a href=\"https://github.com/schollz/howmanypeoplearearound\" class=\"storylink\">Count the people around you by monitoring wifi signals</a><span class=\"sitebit comhead\"> (<a href=\"from?site=github.com\"><span class=\"sitestr\">github.com</span></a>)</span></td></tr><tr><td colspan=\"2\"></td><td class=\"subtext\">\n",
      "        <span class=\"score\" id=\"score_18932402\">364 points</span> by <a href=\"user?id=captn3m0\" class=\"hnuser\">captn3m0</a> <span class=\"age\"><a href=\"item?id=18932402\">9 hours ago</a></span> <span id=\"unv_18932402\"></span> | <a href=\"hide?id=18932402&amp;goto=news\">hide</a> | <a href=\"item?id=18932402\">118&nbsp;comments</a>              </td></tr>\n",
      "      <tr class=\"spacer\" style=\"height:5px\"></tr>\n",
      "                <tr class='athing' id='18933228'>\n",
      "      <td align=\"right\" valign=\"top\" class=\"title\"><span class=\"rank\">7.</span></td>      <td valign=\"top\" class=\"votelinks\"><center><a id='up_18933228' href='vote?id=18933228&amp;how=up&amp;goto=news'><div class='votearrow' title='upvote'></div></a></center></td><td class=\"title\"><a href=\"https://techcrunch.com/2019/01/17/google-is-buying-fossils-smartwatch-tech-for-40-million/\" class=\"storylink\">Google is buying Fossil’s smartwatch tech for $40M</a><span class=\"sitebit comhead\"> (<a href=\"from?site=techcrunch.com\"><span class=\"sitestr\">techcrunch.com</span></a>)</span></td></tr><tr><td colspan=\"2\"></td><td class=\"subtext\">\n",
      "        <span class=\"score\" id=\"score_18933228\">167 points</span> by <a href=\"user?id=toufiqbarhamov\" class=\"hnuser\">toufiqbarhamov</a> <span class=\"age\"><a href=\"item?id=18933228\">7 hours ago</a></span> <span id=\"unv_18933228\"></span> | <a href=\"hide?id=18933228&amp;goto=news\">hide</a> | <a href=\"item?id=18933228\">107&nbsp;comments</a>              </td></tr>\n",
      "      <tr class=\"spacer\" style=\"height:5px\"></tr>\n",
      "                <tr class='athing' id='18935958'>\n",
      "      <td align=\"right\" valign=\"top\" class=\"title\"><span class=\"rank\">8.</span></td>      <td valign=\"top\" class=\"votelinks\"><center><a id='up_18935958' href='vote?id=18935958&amp;how=up&amp;goto=news'><div class='votearrow' title='upvote'></div></a></center></td><td class=\"title\"><a href=\"https://github.com/nostalgic-css/NES.css\" class=\"storylink\">NES.css Is a NES-Style(8bit-like) CSS Framework</a><span class=\"sitebit comhead\"> (<a href=\"from?site=github.com\"><span class=\"sitestr\">github.com</span></a>)</span></td></tr><tr><td colspan=\"2\"></td><td class=\"subtext\">\n",
      "        <span class=\"score\" id=\"score_18935958\">22 points</span> by <a href=\"user?id=theBashShell\" class=\"hnuser\">theBashShell</a> <span class=\"age\"><a href=\"item?id=18935958\">1 hour ago</a></span> <span id=\"unv_18935958\"></span> | <a href=\"hide?id=18935958&amp;goto=news\">hide</a> | <a href=\"item?id=18935958\">11&nbsp;comments</a>              </td></tr>\n",
      "      <tr class=\"spacer\" style=\"height:5px\"></tr>\n",
      "                <tr class='athing' id='18927477'>\n",
      "      <td align=\"right\" valign=\"top\" class=\"title\"><span class=\"rank\">9.</span></td>      <td valign=\"top\" class=\"votelinks\"><center><a id='up_18927477' href='vote?id=18927477&amp;how=up&amp;goto=news'><div class='votearrow' title='upvote'></div></a></center></td><td class=\"title\"><a href=\"https://www.upguard.com/breaches/rsync-oklahoma-securities-commission\" class=\"storylink\">Oklahoma Department of Securities Leaked Millions of Files</a><span class=\"sitebit comhead\"> (<a href=\"from?site=upguard.com\"><span class=\"sitestr\">upguard.com</span></a>)</span></td></tr><tr><td colspan=\"2\"></td><td class=\"subtext\">\n",
      "        <span class=\"score\" id=\"score_18927477\">86 points</span> by <a href=\"user?id=wglb\" class=\"hnuser\">wglb</a> <span class=\"age\"><a href=\"item?id=18927477\">5 hours ago</a></span> <span id=\"unv_18927477\"></span> | <a href=\"hide?id=18927477&amp;goto=news\">hide</a> | <a href=\"item?id=18927477\">15&nbsp;comments</a>              </td></tr>\n",
      "      <tr class=\"spacer\" style=\"height:5px\"></tr>\n",
      "                <tr class='athing' id='18930798'>\n",
      "      <td align=\"right\" valign=\"top\" class=\"title\"><span class=\"rank\">10.</span></td>      <td valign=\"top\" class=\"votelinks\"><center><a id='up_18930798' href='vote?id=18930798&amp;how=up&amp;goto=news'><div class='votearrow' title='upvote'></div></a></center></td><td class=\"title\"><a href=\"https://dnsflagday.net\" class=\"storylink\">DNS Flag Day on February 1, 2019: check your domains</a><span class=\"sitebit comhead\"> (<a href=\"from?site=dnsflagday.net\"><span class=\"sitestr\">dnsflagday.net</span></a>)</span></td></tr><tr><td colspan=\"2\"></td><td class=\"subtext\">\n",
      "        <span class=\"score\" id=\"score_18930798\">325 points</span> by <a href=\"user?id=el_duderino\" class=\"hnuser\">el_duderino</a> <span class=\"age\"><a href=\"item?id=18930798\">12 hours ago</a></span> <span id=\"unv_18930798\"></span> | <a href=\"hide?id=18930798&amp;goto=news\">hide</a> | <a href=\"item?id=18930798\">82&nbsp;comments</a>              </td></tr>\n",
      "      <tr class=\"spacer\" style=\"height:5px\"></tr>\n",
      "                <tr class='athing' id='18932320'>\n",
      "      <td align=\"right\" valign=\"top\" class=\"title\"><span class=\"rank\">11.</span></td>      <td valign=\"top\" class=\"votelinks\"><center><a id='up_18932320' href='vote?id=18932320&amp;how=up&amp;goto=news'><div class='votearrow' title='upvote'></div></a></center></td><td class=\"title\"><a href=\"https://www.heidisql.com/\" class=\"storylink\">HeidiSQL – GUI client for MariaDB, MySQL, Microsoft SQL Server and PostgreSQL</a><span class=\"sitebit comhead\"> (<a href=\"from?site=heidisql.com\"><span class=\"sitestr\">heidisql.com</span></a>)</span></td></tr><tr><td colspan=\"2\"></td><td class=\"subtext\">\n",
      "        <span class=\"score\" id=\"score_18932320\">178 points</span> by <a href=\"user?id=piotrkubisa\" class=\"hnuser\">piotrkubisa</a> <span class=\"age\"><a href=\"item?id=18932320\">9 hours ago</a></span> <span id=\"unv_18932320\"></span> | <a href=\"hide?id=18932320&amp;goto=news\">hide</a> | <a href=\"item?id=18932320\">76&nbsp;comments</a>              </td></tr>\n",
      "      <tr class=\"spacer\" style=\"height:5px\"></tr>\n",
      "                <tr class='athing' id='18932816'>\n",
      "      <td align=\"right\" valign=\"top\" class=\"title\"><span class=\"rank\">12.</span></td>      <td valign=\"top\" class=\"votelinks\"><center><a id='up_18932816' href='vote?id=18932816&amp;how=up&amp;goto=news'><div class='votearrow' title='upvote'></div></a></center></td><td class=\"title\"><a href=\"https://www.scylladb.com/2019/01/17/scylla-open-source-3-0-overview/\" class=\"storylink\">ScyllaDB Open Source 3.0</a><span class=\"sitebit comhead\"> (<a href=\"from?site=scylladb.com\"><span class=\"sitestr\">scylladb.com</span></a>)</span></td></tr><tr><td colspan=\"2\"></td><td class=\"subtext\">\n",
      "        <span class=\"score\" id=\"score_18932816\">155 points</span> by <a href=\"user?id=manigandham\" class=\"hnuser\">manigandham</a> <span class=\"age\"><a href=\"item?id=18932816\">8 hours ago</a></span> <span id=\"unv_18932816\"></span> | <a href=\"hide?id=18932816&amp;goto=news\">hide</a> | <a href=\"item?id=18932816\">46&nbsp;comments</a>              </td></tr>\n",
      "      <tr class=\"spacer\" style=\"height:5px\"></tr>\n",
      "                <tr class='athing' id='18933316'>\n",
      "      <td align=\"right\" valign=\"top\" class=\"title\"><span class=\"rank\">13.</span></td>      <td valign=\"top\" class=\"votelinks\"><center><a id='up_18933316' href='vote?id=18933316&amp;how=up&amp;goto=news'><div class='votearrow' title='upvote'></div></a></center></td><td class=\"title\"><a href=\"https://www.economist.com/science-and-technology/2019/01/19/adding-new-dna-letters-make-novel-proteins-possible\" class=\"storylink\">Adding new DNA letters makes novel proteins possible</a><span class=\"sitebit comhead\"> (<a href=\"from?site=economist.com\"><span class=\"sitestr\">economist.com</span></a>)</span></td></tr><tr><td colspan=\"2\"></td><td class=\"subtext\">\n",
      "        <span class=\"score\" id=\"score_18933316\">115 points</span> by <a href=\"user?id=pseudolus\" class=\"hnuser\">pseudolus</a> <span class=\"age\"><a href=\"item?id=18933316\">7 hours ago</a></span> <span id=\"unv_18933316\"></span> | <a href=\"hide?id=18933316&amp;goto=news\">hide</a> | <a href=\"item?id=18933316\">22&nbsp;comments</a>              </td></tr>\n",
      "      <tr class=\"spacer\" style=\"height:5px\"></tr>\n",
      "                <tr class='athing' id='18933106'>\n",
      "      <td align=\"right\" valign=\"top\" class=\"title\"><span class=\"rank\">14.</span></td>      <td valign=\"top\" class=\"votelinks\"><center><a id='up_18933106' href='vote?id=18933106&amp;how=up&amp;goto=news'><div class='votearrow' title='upvote'></div></a></center></td><td class=\"title\"><a href=\"https://blog.chaddickerson.com/2019/01/09/replacing-facebook/\" class=\"storylink\">Going old school: how I replaced Facebook with email</a><span class=\"sitebit comhead\"> (<a href=\"from?site=chaddickerson.com\"><span class=\"sitestr\">chaddickerson.com</span></a>)</span></td></tr><tr><td colspan=\"2\"></td><td class=\"subtext\">\n",
      "        <span class=\"score\" id=\"score_18933106\">90 points</span> by <a href=\"user?id=bellinom\" class=\"hnuser\">bellinom</a> <span class=\"age\"><a href=\"item?id=18933106\">7 hours ago</a></span> <span id=\"unv_18933106\"></span> | <a href=\"hide?id=18933106&amp;goto=news\">hide</a> | <a href=\"item?id=18933106\">40&nbsp;comments</a>              </td></tr>\n",
      "      <tr class=\"spacer\" style=\"height:5px\"></tr>\n",
      "                <tr class='athing' id='18934351'>\n",
      "      <td align=\"right\" valign=\"top\" class=\"title\"><span class=\"rank\">15.</span></td>      <td valign=\"top\" class=\"votelinks\"><center><a id='up_18934351' href='vote?id=18934351&amp;how=up&amp;goto=news'><div class='votearrow' title='upvote'></div></a></center></td><td class=\"title\"><a href=\"https://techcrunch.com/2019/01/17/coinbase-acquihires-san-francisco-startup-blockspring/\" class=\"storylink\">Coinbase Acqui-Hires Blockspring</a><span class=\"sitebit comhead\"> (<a href=\"from?site=techcrunch.com\"><span class=\"sitestr\">techcrunch.com</span></a>)</span></td></tr><tr><td colspan=\"2\"></td><td class=\"subtext\">\n",
      "        <span class=\"score\" id=\"score_18934351\">29 points</span> by <a href=\"user?id=wslh\" class=\"hnuser\">wslh</a> <span class=\"age\"><a href=\"item?id=18934351\">3 hours ago</a></span> <span id=\"unv_18934351\"></span> | <a href=\"hide?id=18934351&amp;goto=news\">hide</a> | <a href=\"item?id=18934351\">15&nbsp;comments</a>              </td></tr>\n",
      "      <tr class=\"spacer\" style=\"height:5px\"></tr>\n",
      "                <tr class='athing' id='18935681'>\n",
      "      <td align=\"right\" valign=\"top\" class=\"title\"><span class=\"rank\">16.</span></td>      <td valign=\"top\" class=\"votelinks\"><center><a id='up_18935681' href='vote?id=18935681&amp;how=up&amp;goto=news'><div class='votearrow' title='upvote'></div></a></center></td><td class=\"title\"><a href=\"https://www.ics.uci.edu/~corps/phaseii/Weiser-Computer21stCentury-SciAm.pdf\" class=\"storylink\">Computer for the 21st Century (1991) [pdf]</a><span class=\"sitebit comhead\"> (<a href=\"from?site=uci.edu\"><span class=\"sitestr\">uci.edu</span></a>)</span></td></tr><tr><td colspan=\"2\"></td><td class=\"subtext\">\n",
      "        <span class=\"score\" id=\"score_18935681\">16 points</span> by <a href=\"user?id=dedalus\" class=\"hnuser\">dedalus</a> <span class=\"age\"><a href=\"item?id=18935681\">2 hours ago</a></span> <span id=\"unv_18935681\"></span> | <a href=\"hide?id=18935681&amp;goto=news\">hide</a> | <a href=\"item?id=18935681\">2&nbsp;comments</a>              </td></tr>\n",
      "      <tr class=\"spacer\" style=\"height:5px\"></tr>\n",
      "                <tr class='athing' id='18933919'>\n",
      "      <td align=\"right\" valign=\"top\" class=\"title\"><span class=\"rank\">17.</span></td>      <td valign=\"top\" class=\"votelinks\"><center><a id='up_18933919' href='vote?id=18933919&amp;how=up&amp;goto=news'><div class='votearrow' title='upvote'></div></a></center></td><td class=\"title\"><a href=\"https://blog.rust-lang.org/2019/01/17/Rust-1.32.0.html\" class=\"storylink\">Rust 1.32 released</a><span class=\"sitebit comhead\"> (<a href=\"from?site=rust-lang.org\"><span class=\"sitestr\">rust-lang.org</span></a>)</span></td></tr><tr><td colspan=\"2\"></td><td class=\"subtext\">\n",
      "        <span class=\"score\" id=\"score_18933919\">292 points</span> by <a href=\"user?id=steveklabnik\" class=\"hnuser\">steveklabnik</a> <span class=\"age\"><a href=\"item?id=18933919\">6 hours ago</a></span> <span id=\"unv_18933919\"></span> | <a href=\"hide?id=18933919&amp;goto=news\">hide</a> | <a href=\"item?id=18933919\">110&nbsp;comments</a>              </td></tr>\n",
      "      <tr class=\"spacer\" style=\"height:5px\"></tr>\n",
      "                <tr class='athing' id='18928920'>\n",
      "      <td align=\"right\" valign=\"top\" class=\"title\"><span class=\"rank\">18.</span></td>      <td valign=\"top\" class=\"votelinks\"><center><a id='up_18928920' href='vote?id=18928920&amp;how=up&amp;goto=news'><div class='votearrow' title='upvote'></div></a></center></td><td class=\"title\"><a href=\"https://prisonuk.blogspot.com/2016/03/preparing-for-prison.html\" class=\"storylink\">Preparing for Prison (2016)</a><span class=\"sitebit comhead\"> (<a href=\"from?site=prisonuk.blogspot.com\"><span class=\"sitestr\">prisonuk.blogspot.com</span></a>)</span></td></tr><tr><td colspan=\"2\"></td><td class=\"subtext\">\n",
      "        <span class=\"score\" id=\"score_18928920\">104 points</span> by <a href=\"user?id=Tomte\" class=\"hnuser\">Tomte</a> <span class=\"age\"><a href=\"item?id=18928920\">8 hours ago</a></span> <span id=\"unv_18928920\"></span> | <a href=\"hide?id=18928920&amp;goto=news\">hide</a> | <a href=\"item?id=18928920\">55&nbsp;comments</a>              </td></tr>\n",
      "      <tr class=\"spacer\" style=\"height:5px\"></tr>\n",
      "                <tr class='athing' id='18935765'>\n",
      "      <td align=\"right\" valign=\"top\" class=\"title\"><span class=\"rank\">19.</span></td>      <td valign=\"top\" class=\"votelinks\"><center><a id='up_18935765' href='vote?id=18935765&amp;how=up&amp;goto=news'><div class='votearrow' title='upvote'></div></a></center></td><td class=\"title\"><a href=\"https://www.theverge.com/platform/amp/2019/1/17/18185136/relativity-space-3d-printing-terran-1-rocket-cape-canaveral-florida\" class=\"storylink\">Relativity  Space (YC W16) Gets a Launch Site at Cape Canaveral</a><span class=\"sitebit comhead\"> (<a href=\"from?site=theverge.com\"><span class=\"sitestr\">theverge.com</span></a>)</span></td></tr><tr><td colspan=\"2\"></td><td class=\"subtext\">\n",
      "        <span class=\"score\" id=\"score_18935765\">15 points</span> by <a href=\"user?id=secondary\" class=\"hnuser\">secondary</a> <span class=\"age\"><a href=\"item?id=18935765\">2 hours ago</a></span> <span id=\"unv_18935765\"></span> | <a href=\"hide?id=18935765&amp;goto=news\">hide</a> | <a href=\"item?id=18935765\">1&nbsp;comment</a>              </td></tr>\n",
      "      <tr class=\"spacer\" style=\"height:5px\"></tr>\n",
      "                <tr class='athing' id='18936177'>\n",
      "      <td align=\"right\" valign=\"top\" class=\"title\"><span class=\"rank\">20.</span></td>      <td valign=\"top\" class=\"votelinks\"><center><a id='up_18936177' href='vote?id=18936177&amp;how=up&amp;goto=news'><div class='votearrow' title='upvote'></div></a></center></td><td class=\"title\"><a href=\"https://blog.0xproject.com/new-ethereum-dev-tools-from-0x-db80ee9e802\" class=\"storylink\" rel=\"nofollow\">New Ethereum Dev Tools from 0x</a><span class=\"sitebit comhead\"> (<a href=\"from?site=0xproject.com\"><span class=\"sitestr\">0xproject.com</span></a>)</span></td></tr><tr><td colspan=\"2\"></td><td class=\"subtext\">\n",
      "        <span class=\"score\" id=\"score_18936177\">5 points</span> by <a href=\"user?id=bpierre\" class=\"hnuser\">bpierre</a> <span class=\"age\"><a href=\"item?id=18936177\">1 hour ago</a></span> <span id=\"unv_18936177\"></span> | <a href=\"hide?id=18936177&amp;goto=news\">hide</a> | <a href=\"item?id=18936177\">discuss</a>              </td></tr>\n",
      "      <tr class=\"spacer\" style=\"height:5px\"></tr>\n",
      "                <tr class='athing' id='18934449'>\n",
      "      <td align=\"right\" valign=\"top\" class=\"title\"><span class=\"rank\">21.</span></td>      <td valign=\"top\" class=\"votelinks\"><center><a id='up_18934449' href='vote?id=18934449&amp;how=up&amp;goto=news'><div class='votearrow' title='upvote'></div></a></center></td><td class=\"title\"><a href=\"https://blog.acolyer.org/2019/01/16/sagedb-a-learned-database-system/\" class=\"storylink\">SageDB: a learned database system</a><span class=\"sitebit comhead\"> (<a href=\"from?site=acolyer.org\"><span class=\"sitestr\">acolyer.org</span></a>)</span></td></tr><tr><td colspan=\"2\"></td><td class=\"subtext\">\n",
      "        <span class=\"score\" id=\"score_18934449\">30 points</span> by <a href=\"user?id=ketralnis\" class=\"hnuser\">ketralnis</a> <span class=\"age\"><a href=\"item?id=18934449\">5 hours ago</a></span> <span id=\"unv_18934449\"></span> | <a href=\"hide?id=18934449&amp;goto=news\">hide</a> | <a href=\"item?id=18934449\">4&nbsp;comments</a>              </td></tr>\n",
      "      <tr class=\"spacer\" style=\"height:5px\"></tr>\n",
      "                <tr class='athing' id='18931961'>\n",
      "      <td align=\"right\" valign=\"top\" class=\"title\"><span class=\"rank\">22.</span></td>      <td valign=\"top\" class=\"votelinks\"><center><a id='up_18931961' href='vote?id=18931961&amp;how=up&amp;goto=news'><div class='votearrow' title='upvote'></div></a></center></td><td class=\"title\"><a href=\"https://habr.com/en/post/436254/\" class=\"storylink\">A bot for Starcraft in Rust, C or any other language</a><span class=\"sitebit comhead\"> (<a href=\"from?site=habr.com\"><span class=\"sitestr\">habr.com</span></a>)</span></td></tr><tr><td colspan=\"2\"></td><td class=\"subtext\">\n",
      "        <span class=\"score\" id=\"score_18931961\">110 points</span> by <a href=\"user?id=hokkos\" class=\"hnuser\">hokkos</a> <span class=\"age\"><a href=\"item?id=18931961\">10 hours ago</a></span> <span id=\"unv_18931961\"></span> | <a href=\"hide?id=18931961&amp;goto=news\">hide</a> | <a href=\"item?id=18931961\">13&nbsp;comments</a>              </td></tr>\n",
      "      <tr class=\"spacer\" style=\"height:5px\"></tr>\n",
      "                <tr class='athing' id='18929883'>\n",
      "      <td align=\"right\" valign=\"top\" class=\"title\"><span class=\"rank\">23.</span></td>      <td valign=\"top\" class=\"votelinks\"><center><a id='up_18929883' href='vote?id=18929883&amp;how=up&amp;goto=news'><div class='votearrow' title='upvote'></div></a></center></td><td class=\"title\"><a href=\"https://www.bloomberg.com/news/articles/2019-01-17/lego-collecting-delivers-huge-and-uncorrelated-market-returns\" class=\"storylink\">Lego collecting delivers huge and uncorrelated market returns</a><span class=\"sitebit comhead\"> (<a href=\"from?site=bloomberg.com\"><span class=\"sitestr\">bloomberg.com</span></a>)</span></td></tr><tr><td colspan=\"2\"></td><td class=\"subtext\">\n",
      "        <span class=\"score\" id=\"score_18929883\">213 points</span> by <a href=\"user?id=pseudolus\" class=\"hnuser\">pseudolus</a> <span class=\"age\"><a href=\"item?id=18929883\">15 hours ago</a></span> <span id=\"unv_18929883\"></span> | <a href=\"hide?id=18929883&amp;goto=news\">hide</a> | <a href=\"item?id=18929883\">192&nbsp;comments</a>              </td></tr>\n",
      "      <tr class=\"spacer\" style=\"height:5px\"></tr>\n",
      "                <tr class='athing' id='18934686'>\n",
      "      <td align=\"right\" valign=\"top\" class=\"title\"><span class=\"rank\">24.</span></td>      <td valign=\"top\" class=\"votelinks\"><center><a id='up_18934686' href='vote?id=18934686&amp;how=up&amp;goto=news'><div class='votearrow' title='upvote'></div></a></center></td><td class=\"title\"><a href=\"https://philosophynow.org/issues/45/The_Last_Messiah\" class=\"storylink\" rel=\"nofollow\">The Last Messiah (1933)</a><span class=\"sitebit comhead\"> (<a href=\"from?site=philosophynow.org\"><span class=\"sitestr\">philosophynow.org</span></a>)</span></td></tr><tr><td colspan=\"2\"></td><td class=\"subtext\">\n",
      "        <span class=\"score\" id=\"score_18934686\">6 points</span> by <a href=\"user?id=DyslexicAtheist\" class=\"hnuser\">DyslexicAtheist</a> <span class=\"age\"><a href=\"item?id=18934686\">1 hour ago</a></span> <span id=\"unv_18934686\"></span> | <a href=\"hide?id=18934686&amp;goto=news\">hide</a> | <a href=\"item?id=18934686\">discuss</a>              </td></tr>\n",
      "      <tr class=\"spacer\" style=\"height:5px\"></tr>\n",
      "                <tr class='athing' id='18935753'>\n",
      "      <td align=\"right\" valign=\"top\" class=\"title\"><span class=\"rank\">25.</span></td>      <td></td><td class=\"title\"><a href=\"https://boards.greenhouse.io/secondmeasure\" class=\"storylink\" rel=\"nofollow\">Second Measure (YC S15) is hiring a senior front end engineer (React/Redux/D3)</a><span class=\"sitebit comhead\"> (<a href=\"from?site=greenhouse.io\"><span class=\"sitestr\">greenhouse.io</span></a>)</span></td></tr><tr><td colspan=\"2\"></td><td class=\"subtext\">\n",
      "        <span class=\"age\"><a href=\"item?id=18935753\">2 hours ago</a></span> | <a href=\"hide?id=18935753&amp;goto=news\">hide</a>      </td></tr>\n",
      "      <tr class=\"spacer\" style=\"height:5px\"></tr>\n",
      "                <tr class='athing' id='18935557'>\n",
      "      <td align=\"right\" valign=\"top\" class=\"title\"><span class=\"rank\">26.</span></td>      <td valign=\"top\" class=\"votelinks\"><center><a id='up_18935557' href='vote?id=18935557&amp;how=up&amp;goto=news'><div class='votearrow' title='upvote'></div></a></center></td><td class=\"title\"><a href=\"https://www.bloomberg.com/graphics/2019-portland-opportunity-zones/\" class=\"storylink\">Portland’s Land Rush for New ’Opportunity Zone’ Tax Breaks</a><span class=\"sitebit comhead\"> (<a href=\"from?site=bloomberg.com\"><span class=\"sitestr\">bloomberg.com</span></a>)</span></td></tr><tr><td colspan=\"2\"></td><td class=\"subtext\">\n",
      "        <span class=\"score\" id=\"score_18935557\">10 points</span> by <a href=\"user?id=glassworm\" class=\"hnuser\">glassworm</a> <span class=\"age\"><a href=\"item?id=18935557\">3 hours ago</a></span> <span id=\"unv_18935557\"></span> | <a href=\"hide?id=18935557&amp;goto=news\">hide</a> | <a href=\"item?id=18935557\">1&nbsp;comment</a>              </td></tr>\n",
      "      <tr class=\"spacer\" style=\"height:5px\"></tr>\n",
      "                <tr class='athing' id='18932206'>\n",
      "      <td align=\"right\" valign=\"top\" class=\"title\"><span class=\"rank\">27.</span></td>      <td valign=\"top\" class=\"votelinks\"><center><a id='up_18932206' href='vote?id=18932206&amp;how=up&amp;goto=news'><div class='votearrow' title='upvote'></div></a></center></td><td class=\"title\"><a href=\"https://www.raylib.com/\" class=\"storylink\">Raylib: a simple and easy-to-use library to enjoy game programming</a><span class=\"sitebit comhead\"> (<a href=\"from?site=raylib.com\"><span class=\"sitestr\">raylib.com</span></a>)</span></td></tr><tr><td colspan=\"2\"></td><td class=\"subtext\">\n",
      "        <span class=\"score\" id=\"score_18932206\">93 points</span> by <a href=\"user?id=njn\" class=\"hnuser\">njn</a> <span class=\"age\"><a href=\"item?id=18932206\">9 hours ago</a></span> <span id=\"unv_18932206\"></span> | <a href=\"hide?id=18932206&amp;goto=news\">hide</a> | <a href=\"item?id=18932206\">15&nbsp;comments</a>              </td></tr>\n",
      "      <tr class=\"spacer\" style=\"height:5px\"></tr>\n",
      "                <tr class='athing' id='18932791'>\n",
      "      <td align=\"right\" valign=\"top\" class=\"title\"><span class=\"rank\">28.</span></td>      <td valign=\"top\" class=\"votelinks\"><center><a id='up_18932791' href='vote?id=18932791&amp;how=up&amp;goto=news'><div class='votearrow' title='upvote'></div></a></center></td><td class=\"title\"><a href=\"https://www.apc.org/en/node/35253\" class=\"storylink\">UN General Assembly adopts record number of resolutions on internet governance</a><span class=\"sitebit comhead\"> (<a href=\"from?site=apc.org\"><span class=\"sitestr\">apc.org</span></a>)</span></td></tr><tr><td colspan=\"2\"></td><td class=\"subtext\">\n",
      "        <span class=\"score\" id=\"score_18932791\">58 points</span> by <a href=\"user?id=magoghm\" class=\"hnuser\">magoghm</a> <span class=\"age\"><a href=\"item?id=18932791\">8 hours ago</a></span> <span id=\"unv_18932791\"></span> | <a href=\"hide?id=18932791&amp;goto=news\">hide</a> | <a href=\"item?id=18932791\">21&nbsp;comments</a>              </td></tr>\n",
      "      <tr class=\"spacer\" style=\"height:5px\"></tr>\n",
      "                <tr class='athing' id='18929992'>\n",
      "      <td align=\"right\" valign=\"top\" class=\"title\"><span class=\"rank\">29.</span></td>      <td valign=\"top\" class=\"votelinks\"><center><a id='up_18929992' href='vote?id=18929992&amp;how=up&amp;goto=news'><div class='votearrow' title='upvote'></div></a></center></td><td class=\"title\"><a href=\"https://www.nature.com/articles/d41586-019-00137-6\" class=\"storylink\">Screen time: how much is too much?</a><span class=\"sitebit comhead\"> (<a href=\"from?site=nature.com\"><span class=\"sitestr\">nature.com</span></a>)</span></td></tr><tr><td colspan=\"2\"></td><td class=\"subtext\">\n",
      "        <span class=\"score\" id=\"score_18929992\">172 points</span> by <a href=\"user?id=pseudolus\" class=\"hnuser\">pseudolus</a> <span class=\"age\"><a href=\"item?id=18929992\">14 hours ago</a></span> <span id=\"unv_18929992\"></span> | <a href=\"hide?id=18929992&amp;goto=news\">hide</a> | <a href=\"item?id=18929992\">232&nbsp;comments</a>              </td></tr>\n",
      "      <tr class=\"spacer\" style=\"height:5px\"></tr>\n",
      "                <tr class='athing' id='18926229'>\n",
      "      <td align=\"right\" valign=\"top\" class=\"title\"><span class=\"rank\">30.</span></td>      <td valign=\"top\" class=\"votelinks\"><center><a id='up_18926229' href='vote?id=18926229&amp;how=up&amp;goto=news'><div class='votearrow' title='upvote'></div></a></center></td><td class=\"title\"><a href=\"https://www.theatlantic.com/health/archive/2019/01/doctor-rapp/579634/\" class=\"storylink\">A Stroke Turned a 63-Year-Old into a Rap Legend</a><span class=\"sitebit comhead\"> (<a href=\"from?site=theatlantic.com\"><span class=\"sitestr\">theatlantic.com</span></a>)</span></td></tr><tr><td colspan=\"2\"></td><td class=\"subtext\">\n",
      "        <span class=\"score\" id=\"score_18926229\">184 points</span> by <a href=\"user?id=mtg\" class=\"hnuser\">mtg</a> <span class=\"age\"><a href=\"item?id=18926229\">15 hours ago</a></span> <span id=\"unv_18926229\"></span> | <a href=\"hide?id=18926229&amp;goto=news\">hide</a> | <a href=\"item?id=18926229\">67&nbsp;comments</a>              </td></tr>\n",
      "      <tr class=\"spacer\" style=\"height:5px\"></tr>\n",
      "            <tr class=\"morespace\" style=\"height:10px\"></tr><tr><td colspan=\"2\"></td><td class=\"title\"><a href=\"news?p=2\" class=\"morelink\" rel=\"nofollow\">More</a></td></tr>\n",
      "  </table>\n",
      "</td></tr>\n",
      "<tr><td><img src=\"s.gif\" height=\"10\" width=\"0\"><table width=\"100%\" cellspacing=\"0\" cellpadding=\"1\"><tr><td bgcolor=\"#ff6600\"></td></tr></table><br><center><span class=\"yclinks\"><a href=\"newsguidelines.html\">Guidelines</a>\n",
      "        | <a href=\"newsfaq.html\">FAQ</a>\n",
      "        | <a href=\"mailto:hn@ycombinator.com\">Support</a>\n",
      "        | <a href=\"https://github.com/HackerNews/API\">API</a>\n",
      "        | <a href=\"security.html\">Security</a>\n",
      "        | <a href=\"lists\">Lists</a>\n",
      "        | <a href=\"bookmarklet.html\" rel=\"nofollow\">Bookmarklet</a>\n",
      "        | <a href=\"http://www.ycombinator.com/legal/\">Legal</a>\n",
      "        | <a href=\"http://www.ycombinator.com/apply/\">Apply to YC</a>\n",
      "        | <a href=\"mailto:hn@ycombinator.com\">Contact</a></span><br><br><form method=\"get\" action=\"//hn.algolia.com/\">Search:\n",
      "          <input type=\"text\" name=\"q\" value=\"\" size=\"17\" autocorrect=\"off\" spellcheck=\"false\" autocapitalize=\"off\" autocomplete=\"false\"></form>\n",
      "            </center></td></tr>\n",
      "      </table></center></body><script type='text/javascript' src='hn.js?rHuuSOgB3qT4dzJtMB3o'></script>\n",
      "  </html>\n",
      "\n"
     ]
    }
   ],
   "source": [
    "import requests\n",
    "\n",
    "# Fetch a web page\n",
    "r = requests.get(\"https://news.ycombinator.com\")\n",
    "print(r.text)"
   ]
  },
  {
   "cell_type": "code",
   "execution_count": 5,
   "metadata": {},
   "outputs": [
    {
     "name": "stdout",
     "output_type": "stream",
     "text": [
      "\n",
      "            \n",
      "          \n",
      "        Hacker News\n",
      "        \n",
      "                  Hacker News\n",
      "              new | comments | ask | show | jobs | submit            \n",
      "                              login\n",
      "                          \n",
      "              \n",
      "\n",
      "              \n",
      "      1.      A Fifth of China’s Homes Are Empty (2018) (bloomberg.com)\n",
      "        131 points by paulpauper 2 hours ago  | hide | 58&nbsp;comments              \n",
      "      \n",
      "                \n",
      "      2.      Dbeaver – Multi-platform database tool (dbeaver.io)\n",
      "        182 points by vbv 4 hours ago  | hide | 70&nbsp;comments              \n",
      "      \n",
      "                \n",
      "      3.      Scientist and Engineer's Guide to Digital Signal Processing (1999) (analog.com)\n",
      "        24 points by tzhenghao 57 minutes ago  | hide | 2&nbsp;comments              \n",
      "      \n",
      "                \n",
      "      4.      Developers Are Not Idiots (cryptologie.net)\n",
      "        39 points by eric_khun 1 hour ago  | hide | 39&nbsp;comments              \n",
      "      \n",
      "                \n",
      "      5.      Let’s talk about open-source sustainability (github.blog)\n",
      "        64 points by steveklabnik 2 hours ago  | hide | 25&nbsp;comments              \n",
      "      \n",
      "                \n",
      "      6.      Count the people around you by monitoring wifi signals (github.com)\n",
      "        364 points by captn3m0 9 hours ago  | hide | 118&nbsp;comments              \n",
      "      \n",
      "                \n",
      "      7.      Google is buying Fossil’s smartwatch tech for $40M (techcrunch.com)\n",
      "        167 points by toufiqbarhamov 7 hours ago  | hide | 107&nbsp;comments              \n",
      "      \n",
      "                \n",
      "      8.      NES.css Is a NES-Style(8bit-like) CSS Framework (github.com)\n",
      "        22 points by theBashShell 1 hour ago  | hide | 11&nbsp;comments              \n",
      "      \n",
      "                \n",
      "      9.      Oklahoma Department of Securities Leaked Millions of Files (upguard.com)\n",
      "        86 points by wglb 5 hours ago  | hide | 15&nbsp;comments              \n",
      "      \n",
      "                \n",
      "      10.      DNS Flag Day on February 1, 2019: check your domains (dnsflagday.net)\n",
      "        325 points by el_duderino 12 hours ago  | hide | 82&nbsp;comments              \n",
      "      \n",
      "                \n",
      "      11.      HeidiSQL – GUI client for MariaDB, MySQL, Microsoft SQL Server and PostgreSQL (heidisql.com)\n",
      "        178 points by piotrkubisa 9 hours ago  | hide | 76&nbsp;comments              \n",
      "      \n",
      "                \n",
      "      12.      ScyllaDB Open Source 3.0 (scylladb.com)\n",
      "        155 points by manigandham 8 hours ago  | hide | 46&nbsp;comments              \n",
      "      \n",
      "                \n",
      "      13.      Adding new DNA letters makes novel proteins possible (economist.com)\n",
      "        115 points by pseudolus 7 hours ago  | hide | 22&nbsp;comments              \n",
      "      \n",
      "                \n",
      "      14.      Going old school: how I replaced Facebook with email (chaddickerson.com)\n",
      "        90 points by bellinom 7 hours ago  | hide | 40&nbsp;comments              \n",
      "      \n",
      "                \n",
      "      15.      Coinbase Acqui-Hires Blockspring (techcrunch.com)\n",
      "        29 points by wslh 3 hours ago  | hide | 15&nbsp;comments              \n",
      "      \n",
      "                \n",
      "      16.      Computer for the 21st Century (1991) [pdf] (uci.edu)\n",
      "        16 points by dedalus 2 hours ago  | hide | 2&nbsp;comments              \n",
      "      \n",
      "                \n",
      "      17.      Rust 1.32 released (rust-lang.org)\n",
      "        292 points by steveklabnik 6 hours ago  | hide | 110&nbsp;comments              \n",
      "      \n",
      "                \n",
      "      18.      Preparing for Prison (2016) (prisonuk.blogspot.com)\n",
      "        104 points by Tomte 8 hours ago  | hide | 55&nbsp;comments              \n",
      "      \n",
      "                \n",
      "      19.      Relativity  Space (YC W16) Gets a Launch Site at Cape Canaveral (theverge.com)\n",
      "        15 points by secondary 2 hours ago  | hide | 1&nbsp;comment              \n",
      "      \n",
      "                \n",
      "      20.      New Ethereum Dev Tools from 0x (0xproject.com)\n",
      "        5 points by bpierre 1 hour ago  | hide | discuss              \n",
      "      \n",
      "                \n",
      "      21.      SageDB: a learned database system (acolyer.org)\n",
      "        30 points by ketralnis 5 hours ago  | hide | 4&nbsp;comments              \n",
      "      \n",
      "                \n",
      "      22.      A bot for Starcraft in Rust, C or any other language (habr.com)\n",
      "        110 points by hokkos 10 hours ago  | hide | 13&nbsp;comments              \n",
      "      \n",
      "                \n",
      "      23.      Lego collecting delivers huge and uncorrelated market returns (bloomberg.com)\n",
      "        213 points by pseudolus 15 hours ago  | hide | 192&nbsp;comments              \n",
      "      \n",
      "                \n",
      "      24.      The Last Messiah (1933) (philosophynow.org)\n",
      "        6 points by DyslexicAtheist 1 hour ago  | hide | discuss              \n",
      "      \n",
      "                \n",
      "      25.      Second Measure (YC S15) is hiring a senior front end engineer (React/Redux/D3) (greenhouse.io)\n",
      "        2 hours ago | hide      \n",
      "      \n",
      "                \n",
      "      26.      Portland’s Land Rush for New ’Opportunity Zone’ Tax Breaks (bloomberg.com)\n",
      "        10 points by glassworm 3 hours ago  | hide | 1&nbsp;comment              \n",
      "      \n",
      "                \n",
      "      27.      Raylib: a simple and easy-to-use library to enjoy game programming (raylib.com)\n",
      "        93 points by njn 9 hours ago  | hide | 15&nbsp;comments              \n",
      "      \n",
      "                \n",
      "      28.      UN General Assembly adopts record number of resolutions on internet governance (apc.org)\n",
      "        58 points by magoghm 8 hours ago  | hide | 21&nbsp;comments              \n",
      "      \n",
      "                \n",
      "      29.      Screen time: how much is too much? (nature.com)\n",
      "        172 points by pseudolus 14 hours ago  | hide | 232&nbsp;comments              \n",
      "      \n",
      "                \n",
      "      30.      A Stroke Turned a 63-Year-Old into a Rap Legend (theatlantic.com)\n",
      "        184 points by mtg 15 hours ago  | hide | 67&nbsp;comments              \n",
      "      \n",
      "            More\n",
      "  \n",
      "\n",
      "Guidelines\n",
      "        | FAQ\n",
      "        | Support\n",
      "        | API\n",
      "        | Security\n",
      "        | Lists\n",
      "        | Bookmarklet\n",
      "        | Legal\n",
      "        | Apply to YC\n",
      "        | ContactSearch:\n",
      "          \n",
      "            \n",
      "      \n",
      "  \n",
      "\n"
     ]
    }
   ],
   "source": [
    "import re\n",
    "\n",
    "# Remove HTML tags using RegEx\n",
    "pattern = re.compile(r'<.*?>')  # tags look like <...>\n",
    "print(pattern.sub('', r.text))  # replace them with blank"
   ]
  },
  {
   "cell_type": "code",
   "execution_count": 6,
   "metadata": {},
   "outputs": [
    {
     "name": "stdout",
     "output_type": "stream",
     "text": [
      "\n",
      "            \n",
      "          \n",
      "        Hacker News\n",
      "        \n",
      "                  Hacker News\n",
      "              new | comments | ask | show | jobs | submit            \n",
      "                              login\n",
      "                          \n",
      "              \n",
      "\n",
      "              \n",
      "      1.      A Fifth of China’s Homes Are Empty (2018) (bloomberg.com)\n",
      "        131 points by paulpauper 2 hours ago  | hide | 58 comments              \n",
      "      \n",
      "                \n",
      "      2.      Dbeaver – Multi-platform database tool (dbeaver.io)\n",
      "        182 points by vbv 4 hours ago  | hide | 70 comments              \n",
      "      \n",
      "                \n",
      "      3.      Scientist and Engineer's Guide to Digital Signal Processing (1999) (analog.com)\n",
      "        24 points by tzhenghao 57 minutes ago  | hide | 2 comments              \n",
      "      \n",
      "                \n",
      "      4.      Developers Are Not Idiots (cryptologie.net)\n",
      "        39 points by eric_khun 1 hour ago  | hide | 39 comments              \n",
      "      \n",
      "                \n",
      "      5.      Let’s talk about open-source sustainability (github.blog)\n",
      "        64 points by steveklabnik 2 hours ago  | hide | 25 comments              \n",
      "      \n",
      "                \n",
      "      6.      Count the people around you by monitoring wifi signals (github.com)\n",
      "        364 points by captn3m0 9 hours ago  | hide | 118 comments              \n",
      "      \n",
      "                \n",
      "      7.      Google is buying Fossil’s smartwatch tech for $40M (techcrunch.com)\n",
      "        167 points by toufiqbarhamov 7 hours ago  | hide | 107 comments              \n",
      "      \n",
      "                \n",
      "      8.      NES.css Is a NES-Style(8bit-like) CSS Framework (github.com)\n",
      "        22 points by theBashShell 1 hour ago  | hide | 11 comments              \n",
      "      \n",
      "                \n",
      "      9.      Oklahoma Department of Securities Leaked Millions of Files (upguard.com)\n",
      "        86 points by wglb 5 hours ago  | hide | 15 comments              \n",
      "      \n",
      "                \n",
      "      10.      DNS Flag Day on February 1, 2019: check your domains (dnsflagday.net)\n",
      "        325 points by el_duderino 12 hours ago  | hide | 82 comments              \n",
      "      \n",
      "                \n",
      "      11.      HeidiSQL – GUI client for MariaDB, MySQL, Microsoft SQL Server and PostgreSQL (heidisql.com)\n",
      "        178 points by piotrkubisa 9 hours ago  | hide | 76 comments              \n",
      "      \n",
      "                \n",
      "      12.      ScyllaDB Open Source 3.0 (scylladb.com)\n",
      "        155 points by manigandham 8 hours ago  | hide | 46 comments              \n",
      "      \n",
      "                \n",
      "      13.      Adding new DNA letters makes novel proteins possible (economist.com)\n",
      "        115 points by pseudolus 7 hours ago  | hide | 22 comments              \n",
      "      \n",
      "                \n",
      "      14.      Going old school: how I replaced Facebook with email (chaddickerson.com)\n",
      "        90 points by bellinom 7 hours ago  | hide | 40 comments              \n",
      "      \n",
      "                \n",
      "      15.      Coinbase Acqui-Hires Blockspring (techcrunch.com)\n",
      "        29 points by wslh 3 hours ago  | hide | 15 comments              \n",
      "      \n",
      "                \n",
      "      16.      Computer for the 21st Century (1991) [pdf] (uci.edu)\n",
      "        16 points by dedalus 2 hours ago  | hide | 2 comments              \n",
      "      \n",
      "                \n",
      "      17.      Rust 1.32 released (rust-lang.org)\n",
      "        292 points by steveklabnik 6 hours ago  | hide | 110 comments              \n",
      "      \n",
      "                \n",
      "      18.      Preparing for Prison (2016) (prisonuk.blogspot.com)\n",
      "        104 points by Tomte 8 hours ago  | hide | 55 comments              \n",
      "      \n",
      "                \n",
      "      19.      Relativity  Space (YC W16) Gets a Launch Site at Cape Canaveral (theverge.com)\n",
      "        15 points by secondary 2 hours ago  | hide | 1 comment              \n",
      "      \n",
      "                \n",
      "      20.      New Ethereum Dev Tools from 0x (0xproject.com)\n",
      "        5 points by bpierre 1 hour ago  | hide | discuss              \n",
      "      \n",
      "                \n",
      "      21.      SageDB: a learned database system (acolyer.org)\n",
      "        30 points by ketralnis 5 hours ago  | hide | 4 comments              \n",
      "      \n",
      "                \n",
      "      22.      A bot for Starcraft in Rust, C or any other language (habr.com)\n",
      "        110 points by hokkos 10 hours ago  | hide | 13 comments              \n",
      "      \n",
      "                \n",
      "      23.      Lego collecting delivers huge and uncorrelated market returns (bloomberg.com)\n",
      "        213 points by pseudolus 15 hours ago  | hide | 192 comments              \n",
      "      \n",
      "                \n",
      "      24.      The Last Messiah (1933) (philosophynow.org)\n",
      "        6 points by DyslexicAtheist 1 hour ago  | hide | discuss              \n",
      "      \n",
      "                \n",
      "      25.      Second Measure (YC S15) is hiring a senior front end engineer (React/Redux/D3) (greenhouse.io)\n",
      "        2 hours ago | hide      \n",
      "      \n",
      "                \n",
      "      26.      Portland’s Land Rush for New ’Opportunity Zone’ Tax Breaks (bloomberg.com)\n",
      "        10 points by glassworm 3 hours ago  | hide | 1 comment              \n",
      "      \n",
      "                \n",
      "      27.      Raylib: a simple and easy-to-use library to enjoy game programming (raylib.com)\n",
      "        93 points by njn 9 hours ago  | hide | 15 comments              \n",
      "      \n",
      "                \n",
      "      28.      UN General Assembly adopts record number of resolutions on internet governance (apc.org)\n",
      "        58 points by magoghm 8 hours ago  | hide | 21 comments              \n",
      "      \n",
      "                \n",
      "      29.      Screen time: how much is too much? (nature.com)\n",
      "        172 points by pseudolus 14 hours ago  | hide | 232 comments              \n",
      "      \n",
      "                \n",
      "      30.      A Stroke Turned a 63-Year-Old into a Rap Legend (theatlantic.com)\n",
      "        184 points by mtg 15 hours ago  | hide | 67 comments              \n",
      "      \n",
      "            More\n",
      "  \n",
      "\n",
      "Guidelines\n",
      "        | FAQ\n",
      "        | Support\n",
      "        | API\n",
      "        | Security\n",
      "        | Lists\n",
      "        | Bookmarklet\n",
      "        | Legal\n",
      "        | Apply to YC\n",
      "        | ContactSearch:\n",
      "          \n",
      "            \n",
      "      \n",
      "  \n",
      "\n"
     ]
    }
   ],
   "source": [
    "from bs4 import BeautifulSoup\n",
    "\n",
    "# Remove HTML tags using Beautiful Soup library\n",
    "soup = BeautifulSoup(r.text, \"html5lib\")\n",
    "print(soup.get_text())"
   ]
  },
  {
   "cell_type": "code",
   "execution_count": 7,
   "metadata": {
    "scrolled": true
   },
   "outputs": [
    {
     "data": {
      "text/plain": [
       "<tr class=\"athing\" id=\"18935888\">\n",
       "      <td align=\"right\" class=\"title\" valign=\"top\"><span class=\"rank\">1.</span></td>      <td class=\"votelinks\" valign=\"top\"><center><a href=\"vote?id=18935888&amp;how=up&amp;goto=news\" id=\"up_18935888\"><div class=\"votearrow\" title=\"upvote\"></div></a></center></td><td class=\"title\"><a class=\"storylink\" href=\"https://www.bloomberg.com/news/articles/2018-11-08/a-fifth-of-china-s-homes-are-empty-that-s-50-million-apartments\">A Fifth of China’s Homes Are Empty (2018)</a><span class=\"sitebit comhead\"> (<a href=\"from?site=bloomberg.com\"><span class=\"sitestr\">bloomberg.com</span></a>)</span></td></tr>"
      ]
     },
     "execution_count": 7,
     "metadata": {},
     "output_type": "execute_result"
    }
   ],
   "source": [
    "# Find all articles\n",
    "summaries = soup.find_all(\"tr\", class_=\"athing\")\n",
    "summaries[0]"
   ]
  },
  {
   "cell_type": "code",
   "execution_count": 8,
   "metadata": {},
   "outputs": [
    {
     "data": {
      "text/plain": [
       "'A Fifth of China’s Homes Are Empty (2018)'"
      ]
     },
     "execution_count": 8,
     "metadata": {},
     "output_type": "execute_result"
    }
   ],
   "source": [
    "# Extract title\n",
    "summaries[0].find(\"a\", class_=\"storylink\").get_text().strip()"
   ]
  },
  {
   "cell_type": "code",
   "execution_count": 9,
   "metadata": {},
   "outputs": [
    {
     "name": "stdout",
     "output_type": "stream",
     "text": [
      "30 Article summaries found. Sample:\n",
      "A Fifth of China’s Homes Are Empty (2018)\n"
     ]
    }
   ],
   "source": [
    "# Find all articles, extract titles\n",
    "articles = []\n",
    "summaries = soup.find_all(\"tr\", class_=\"athing\")\n",
    "for summary in summaries:\n",
    "    title = summary.find(\"a\", class_=\"storylink\").get_text().strip()\n",
    "    articles.append((title))\n",
    "\n",
    "print(len(articles), \"Article summaries found. Sample:\")\n",
    "print(articles[0])"
   ]
  },
  {
   "cell_type": "markdown",
   "metadata": {
    "collapsed": true
   },
   "source": [
    "## Normalization"
   ]
  },
  {
   "cell_type": "markdown",
   "metadata": {},
   "source": [
    "### Case Normalization"
   ]
  },
  {
   "cell_type": "code",
   "execution_count": 10,
   "metadata": {},
   "outputs": [
    {
     "name": "stdout",
     "output_type": "stream",
     "text": [
      "The first time you see The Second Renaissance it may look boring. Look at it at least twice and definitely watch part 2. It will change your view of the matrix. Are the human people the ones who started the war ? Is AI a bad thing ?\n"
     ]
    }
   ],
   "source": [
    "# Sample text\n",
    "text = \"The first time you see The Second Renaissance it may look boring. Look at it at least twice and definitely watch part 2. It will change your view of the matrix. Are the human people the ones who started the war ? Is AI a bad thing ?\"\n",
    "print(text)"
   ]
  },
  {
   "cell_type": "code",
   "execution_count": 11,
   "metadata": {},
   "outputs": [
    {
     "name": "stdout",
     "output_type": "stream",
     "text": [
      "the first time you see the second renaissance it may look boring. look at it at least twice and definitely watch part 2. it will change your view of the matrix. are the human people the ones who started the war ? is ai a bad thing ?\n"
     ]
    }
   ],
   "source": [
    "# Convert to lowercase\n",
    "text = text.lower() \n",
    "print(text)"
   ]
  },
  {
   "cell_type": "markdown",
   "metadata": {},
   "source": [
    "### Punctuation Removal"
   ]
  },
  {
   "cell_type": "code",
   "execution_count": 12,
   "metadata": {},
   "outputs": [
    {
     "name": "stdout",
     "output_type": "stream",
     "text": [
      "the first time you see the second renaissance it may look boring  look at it at least twice and definitely watch part 2  it will change your view of the matrix  are the human people the ones who started the war   is ai a bad thing  \n"
     ]
    }
   ],
   "source": [
    "import re\n",
    "\n",
    "# Remove punctuation characters\n",
    "text = re.sub(r\"[^a-zA-Z0-9]\", \" \", text) \n",
    "print(text)"
   ]
  },
  {
   "cell_type": "markdown",
   "metadata": {},
   "source": [
    "## Tokenization"
   ]
  },
  {
   "cell_type": "code",
   "execution_count": 13,
   "metadata": {},
   "outputs": [
    {
     "name": "stdout",
     "output_type": "stream",
     "text": [
      "['the', 'first', 'time', 'you', 'see', 'the', 'second', 'renaissance', 'it', 'may', 'look', 'boring', 'look', 'at', 'it', 'at', 'least', 'twice', 'and', 'definitely', 'watch', 'part', '2', 'it', 'will', 'change', 'your', 'view', 'of', 'the', 'matrix', 'are', 'the', 'human', 'people', 'the', 'ones', 'who', 'started', 'the', 'war', 'is', 'ai', 'a', 'bad', 'thing']\n"
     ]
    }
   ],
   "source": [
    "# Split text into tokens (words)\n",
    "words = text.split()\n",
    "print(words)"
   ]
  },
  {
   "cell_type": "markdown",
   "metadata": {},
   "source": [
    "### NLTK: Natural Language ToolKit"
   ]
  },
  {
   "cell_type": "code",
   "execution_count": 14,
   "metadata": {},
   "outputs": [],
   "source": [
    "import os\n",
    "import nltk\n",
    "nltk.data.path.append(os.path.join(\"..\",\"data\", \"nltk_data\"))"
   ]
  },
  {
   "cell_type": "code",
   "execution_count": 15,
   "metadata": {},
   "outputs": [
    {
     "name": "stdout",
     "output_type": "stream",
     "text": [
      "Dr. Smith graduated from the University of Washington. He later started an analytics firm called Lux, which catered to enterprise customers.\n"
     ]
    }
   ],
   "source": [
    "# Another sample text\n",
    "text = \"Dr. Smith graduated from the University of Washington. He later started an analytics firm called Lux, which catered to enterprise customers.\"\n",
    "print(text)"
   ]
  },
  {
   "cell_type": "code",
   "execution_count": 16,
   "metadata": {},
   "outputs": [
    {
     "name": "stdout",
     "output_type": "stream",
     "text": [
      "['Dr.', 'Smith', 'graduated', 'from', 'the', 'University', 'of', 'Washington', '.', 'He', 'later', 'started', 'an', 'analytics', 'firm', 'called', 'Lux', ',', 'which', 'catered', 'to', 'enterprise', 'customers', '.']\n"
     ]
    }
   ],
   "source": [
    "from nltk.tokenize import word_tokenize\n",
    "\n",
    "# Split text into words using NLTK\n",
    "words = word_tokenize(text)\n",
    "print(words)"
   ]
  },
  {
   "cell_type": "code",
   "execution_count": 17,
   "metadata": {},
   "outputs": [
    {
     "name": "stdout",
     "output_type": "stream",
     "text": [
      "['Dr. Smith graduated from the University of Washington.', 'He later started an analytics firm called Lux, which catered to enterprise customers.']\n"
     ]
    }
   ],
   "source": [
    "from nltk.tokenize import sent_tokenize\n",
    "\n",
    "# Split text into sentences\n",
    "sentences = sent_tokenize(text)\n",
    "print(sentences)"
   ]
  },
  {
   "cell_type": "code",
   "execution_count": 18,
   "metadata": {},
   "outputs": [
    {
     "name": "stdout",
     "output_type": "stream",
     "text": [
      "['i', 'me', 'my', 'myself', 'we', 'our', 'ours', 'ourselves', 'you', \"you're\", \"you've\", \"you'll\", \"you'd\", 'your', 'yours', 'yourself', 'yourselves', 'he', 'him', 'his', 'himself', 'she', \"she's\", 'her', 'hers', 'herself', 'it', \"it's\", 'its', 'itself', 'they', 'them', 'their', 'theirs', 'themselves', 'what', 'which', 'who', 'whom', 'this', 'that', \"that'll\", 'these', 'those', 'am', 'is', 'are', 'was', 'were', 'be', 'been', 'being', 'have', 'has', 'had', 'having', 'do', 'does', 'did', 'doing', 'a', 'an', 'the', 'and', 'but', 'if', 'or', 'because', 'as', 'until', 'while', 'of', 'at', 'by', 'for', 'with', 'about', 'against', 'between', 'into', 'through', 'during', 'before', 'after', 'above', 'below', 'to', 'from', 'up', 'down', 'in', 'out', 'on', 'off', 'over', 'under', 'again', 'further', 'then', 'once', 'here', 'there', 'when', 'where', 'why', 'how', 'all', 'any', 'both', 'each', 'few', 'more', 'most', 'other', 'some', 'such', 'no', 'nor', 'not', 'only', 'own', 'same', 'so', 'than', 'too', 'very', 's', 't', 'can', 'will', 'just', 'don', \"don't\", 'should', \"should've\", 'now', 'd', 'll', 'm', 'o', 're', 've', 'y', 'ain', 'aren', \"aren't\", 'couldn', \"couldn't\", 'didn', \"didn't\", 'doesn', \"doesn't\", 'hadn', \"hadn't\", 'hasn', \"hasn't\", 'haven', \"haven't\", 'isn', \"isn't\", 'ma', 'mightn', \"mightn't\", 'mustn', \"mustn't\", 'needn', \"needn't\", 'shan', \"shan't\", 'shouldn', \"shouldn't\", 'wasn', \"wasn't\", 'weren', \"weren't\", 'won', \"won't\", 'wouldn', \"wouldn't\"]\n"
     ]
    }
   ],
   "source": [
    "# List stop words\n",
    "from nltk.corpus import stopwords\n",
    "print(stopwords.words(\"english\"))"
   ]
  },
  {
   "cell_type": "code",
   "execution_count": 19,
   "metadata": {},
   "outputs": [
    {
     "name": "stdout",
     "output_type": "stream",
     "text": [
      "['the', 'first', 'time', 'you', 'see', 'the', 'second', 'renaissance', 'it', 'may', 'look', 'boring', 'look', 'at', 'it', 'at', 'least', 'twice', 'and', 'definitely', 'watch', 'part', '2', 'it', 'will', 'change', 'your', 'view', 'of', 'the', 'matrix', 'are', 'the', 'human', 'people', 'the', 'ones', 'who', 'started', 'the', 'war', 'is', 'ai', 'a', 'bad', 'thing']\n"
     ]
    }
   ],
   "source": [
    "# Reset text\n",
    "text = \"The first time you see The Second Renaissance it may look boring. Look at it at least twice and definitely watch part 2. It will change your view of the matrix. Are the human people the ones who started the war ? Is AI a bad thing ?\"\n",
    "\n",
    "# Normalize it\n",
    "text = re.sub(r\"[^a-zA-Z0-9]\", \" \", text.lower())\n",
    "\n",
    "# Tokenize it\n",
    "words = text.split()\n",
    "print(words)"
   ]
  },
  {
   "cell_type": "code",
   "execution_count": 20,
   "metadata": {},
   "outputs": [
    {
     "name": "stdout",
     "output_type": "stream",
     "text": [
      "['first', 'time', 'see', 'second', 'renaissance', 'may', 'look', 'boring', 'look', 'least', 'twice', 'definitely', 'watch', 'part', '2', 'change', 'view', 'matrix', 'human', 'people', 'ones', 'started', 'war', 'ai', 'bad', 'thing']\n"
     ]
    }
   ],
   "source": [
    "# Remove stop words\n",
    "words = [w for w in words if w not in stopwords.words(\"english\")]\n",
    "print(words)"
   ]
  },
  {
   "cell_type": "markdown",
   "metadata": {},
   "source": [
    "### Sentence Parsing"
   ]
  },
  {
   "cell_type": "code",
   "execution_count": 21,
   "metadata": {},
   "outputs": [
    {
     "name": "stdout",
     "output_type": "stream",
     "text": [
      "(S\n",
      "  (NP I)\n",
      "  (VP\n",
      "    (VP (V shot) (NP (Det an) (N elephant)))\n",
      "    (PP (P in) (NP (Det my) (N pajamas)))))\n",
      "(S\n",
      "  (NP I)\n",
      "  (VP\n",
      "    (V shot)\n",
      "    (NP (Det an) (N elephant) (PP (P in) (NP (Det my) (N pajamas))))))\n"
     ]
    }
   ],
   "source": [
    "import nltk\n",
    "\n",
    "# Define a custom grammar\n",
    "my_grammar = nltk.CFG.fromstring(\"\"\"\n",
    "S -> NP VP\n",
    "PP -> P NP\n",
    "NP -> Det N | Det N PP | 'I'\n",
    "VP -> V NP | VP PP\n",
    "Det -> 'an' | 'my'\n",
    "N -> 'elephant' | 'pajamas'\n",
    "V -> 'shot'\n",
    "P -> 'in'\n",
    "\"\"\")\n",
    "parser = nltk.ChartParser(my_grammar)\n",
    "\n",
    "# Parse a sentence\n",
    "sentence = word_tokenize(\"I shot an elephant in my pajamas\")\n",
    "for tree in parser.parse(sentence):\n",
    "    print(tree)"
   ]
  },
  {
   "cell_type": "markdown",
   "metadata": {},
   "source": [
    "## Stemming & Lemmatization\n",
    "\n",
    "### Stemming"
   ]
  },
  {
   "cell_type": "code",
   "execution_count": 22,
   "metadata": {},
   "outputs": [
    {
     "name": "stdout",
     "output_type": "stream",
     "text": [
      "['first', 'time', 'see', 'second', 'renaiss', 'may', 'look', 'bore', 'look', 'least', 'twice', 'definit', 'watch', 'part', '2', 'chang', 'view', 'matrix', 'human', 'peopl', 'one', 'start', 'war', 'ai', 'bad', 'thing']\n"
     ]
    }
   ],
   "source": [
    "from nltk.stem.porter import PorterStemmer\n",
    "\n",
    "# Reduce words to their stems\n",
    "stemmed = [PorterStemmer().stem(w) for w in words]\n",
    "print(stemmed)"
   ]
  },
  {
   "cell_type": "markdown",
   "metadata": {},
   "source": [
    "### Lemmatization"
   ]
  },
  {
   "cell_type": "code",
   "execution_count": 23,
   "metadata": {},
   "outputs": [
    {
     "name": "stdout",
     "output_type": "stream",
     "text": [
      "['first', 'time', 'see', 'second', 'renaissance', 'may', 'look', 'boring', 'look', 'least', 'twice', 'definitely', 'watch', 'part', '2', 'change', 'view', 'matrix', 'human', 'people', 'one', 'started', 'war', 'ai', 'bad', 'thing']\n"
     ]
    }
   ],
   "source": [
    "from nltk.stem.wordnet import WordNetLemmatizer\n",
    "\n",
    "# Reduce words to their root form\n",
    "lemmed = [WordNetLemmatizer().lemmatize(w) for w in words]\n",
    "print(lemmed)"
   ]
  },
  {
   "cell_type": "code",
   "execution_count": 24,
   "metadata": {},
   "outputs": [
    {
     "name": "stdout",
     "output_type": "stream",
     "text": [
      "['first', 'time', 'see', 'second', 'renaissance', 'may', 'look', 'bore', 'look', 'least', 'twice', 'definitely', 'watch', 'part', '2', 'change', 'view', 'matrix', 'human', 'people', 'one', 'start', 'war', 'ai', 'bad', 'thing']\n"
     ]
    }
   ],
   "source": [
    "# Lemmatize verbs by specifying pos\n",
    "lemmed = [WordNetLemmatizer().lemmatize(w, pos='v') for w in lemmed]\n",
    "print(lemmed)"
   ]
  }
 ],
 "metadata": {
  "kernelspec": {
   "display_name": "Python 3",
   "language": "python",
   "name": "python3"
  },
  "language_info": {
   "codemirror_mode": {
    "name": "ipython",
    "version": 3
   },
   "file_extension": ".py",
   "mimetype": "text/x-python",
   "name": "python",
   "nbconvert_exporter": "python",
   "pygments_lexer": "ipython3",
   "version": "3.6.5"
  }
 },
 "nbformat": 4,
 "nbformat_minor": 2
}
